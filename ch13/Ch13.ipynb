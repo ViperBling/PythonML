{
 "cells": [
  {
   "cell_type": "markdown",
   "metadata": {},
   "source": [
    "# Chapter13. 使用Theano并行训练神经网络\n",
    "- 使用Theano编写优化的机器学习代码\n",
    "- 为人工神经网络选择合适的激励函数\n",
    "- 使用Keras深度学习库进行快速便捷的实验"
   ]
  },
  {
   "cell_type": "markdown",
   "metadata": {},
   "source": [
    "## 1. 使用Theano构建、编译并运行表达式\n",
    "### a. Theano初探"
   ]
  },
  {
   "cell_type": "code",
   "execution_count": 1,
   "metadata": {},
   "outputs": [],
   "source": [
    "import theano\n",
    "from theano import tensor as T"
   ]
  },
  {
   "cell_type": "code",
   "execution_count": 3,
   "metadata": {},
   "outputs": [
    {
     "data": {
      "text/plain": [
       "array(2.5)"
      ]
     },
     "execution_count": 3,
     "metadata": {},
     "output_type": "execute_result"
    }
   ],
   "source": [
    "# 变量初始化\n",
    "x1 = T.scalar()\n",
    "w1 = T.scalar()\n",
    "w0 = T.scalar()\n",
    "z1 = w1 * x1 + w0\n",
    "\n",
    "# 编译\n",
    "net_input = theano.function(inputs=[w1, x1, w0], outputs=z1)\n",
    "\n",
    "# 运行\n",
    "net_input(2.0, 1.0, 0.5)"
   ]
  },
  {
   "cell_type": "markdown",
   "metadata": {},
   "source": [
    "### b. Theano配置"
   ]
  },
  {
   "cell_type": "code",
   "execution_count": 4,
   "metadata": {},
   "outputs": [
    {
     "name": "stdout",
     "output_type": "stream",
     "text": [
      "float64\n"
     ]
    }
   ],
   "source": [
    "# 浮点变量的默认值\n",
    "print(theano.config.floatX)"
   ]
  },
  {
   "cell_type": "code",
   "execution_count": 5,
   "metadata": {},
   "outputs": [],
   "source": [
    "# 修改浮点变量\n",
    "theano.config.floatX= 'float32'"
   ]
  },
  {
   "cell_type": "code",
   "execution_count": 7,
   "metadata": {},
   "outputs": [
    {
     "name": "stdout",
     "output_type": "stream",
     "text": [
      "float32\n"
     ]
    }
   ],
   "source": [
    "print(theano.config.floatX)"
   ]
  },
  {
   "cell_type": "code",
   "execution_count": 6,
   "metadata": {},
   "outputs": [
    {
     "name": "stdout",
     "output_type": "stream",
     "text": [
      "cpu\n"
     ]
    }
   ],
   "source": [
    "# 默认运算设备为CPU\n",
    "print(theano.config.device)"
   ]
  },
  {
   "cell_type": "markdown",
   "metadata": {},
   "source": [
    "### c. 使用数组结构\n",
    "通过tensor使用数组结构"
   ]
  },
  {
   "cell_type": "code",
   "execution_count": 8,
   "metadata": {},
   "outputs": [
    {
     "name": "stdout",
     "output_type": "stream",
     "text": [
      "Column sum: [2. 4. 6.]\n",
      "Column sum: [2. 4. 6.]\n"
     ]
    }
   ],
   "source": [
    "import numpy as np\n",
    "\n",
    "# 初始化\n",
    "x = T.fmatrix(name='x')\n",
    "x_sum = T.sum(x, axis=0)\n",
    "\n",
    "# 编译\n",
    "calc_sum = theano.function(inputs=[x], outputs=x_sum)\n",
    "\n",
    "# 运行\n",
    "ary = [[1, 2, 3], [1, 2, 3]]\n",
    "print('Column sum:', calc_sum(ary))\n",
    "\n",
    "ary = np.array([[1, 2, 3], [1, 2, 3]], dtype=theano.config.floatX)\n",
    "print('Column sum:', calc_sum(ary))"
   ]
  },
  {
   "cell_type": "markdown",
   "metadata": {},
   "source": [
    "Theano的share变量允许我们使用大型对象，这些对象可以被多种类型的函数读写，这样我们就可以在编译后更新这些对象。"
   ]
  },
  {
   "cell_type": "code",
   "execution_count": 9,
   "metadata": {},
   "outputs": [
    {
     "name": "stdout",
     "output_type": "stream",
     "text": [
      "z0: [[0.]]\n",
      "z1: [[6.]]\n",
      "z2: [[12.]]\n",
      "z3: [[18.]]\n",
      "z4: [[24.]]\n"
     ]
    }
   ],
   "source": [
    "x = T.fmatrix(name='x')\n",
    "w = theano.shared(np.array([[0.0, 0.0, 0.0]],dtype=theano.config.floatX))\n",
    "\n",
    "z = x.dot(w.T)\n",
    "update = [[w, w+1.0]]\n",
    "\n",
    "net_input = theano.function(inputs=[x], updates=update, outputs=z)\n",
    "\n",
    "data = np.array([[1, 2, 3]], dtype=theano.config.floatX)\n",
    "for i in range(5):\n",
    "    print('z%d:' % i, net_input(data))"
   ]
  },
  {
   "cell_type": "code",
   "execution_count": 10,
   "metadata": {},
   "outputs": [
    {
     "name": "stdout",
     "output_type": "stream",
     "text": [
      "z: [[0.]]\n",
      "z: [[6.]]\n",
      "z: [[12.]]\n",
      "z: [[18.]]\n",
      "z: [[24.]]\n"
     ]
    }
   ],
   "source": [
    "data = np.array([[1, 2, 3]], dtype=theano.config.floatX)\n",
    "x = T.fmatrix(name='x')\n",
    "w = theano.shared(np.asarray([[0.0, 0.0, 0.0]], dtype=theano.config.floatX))\n",
    "\n",
    "z = x.dot(w.T)\n",
    "update = [[w, w+1.0]]\n",
    "\n",
    "# compile\n",
    "net_input = theano.function(inputs=[], \n",
    "                            updates=update, \n",
    "                            givens={x: data},\n",
    "                            outputs=z)\n",
    "\n",
    "# execute\n",
    "for i in range(5):\n",
    "    print('z:', net_input())"
   ]
  },
  {
   "cell_type": "markdown",
   "metadata": {},
   "source": [
    "### d. 线性回归示例"
   ]
  },
  {
   "cell_type": "code",
   "execution_count": 11,
   "metadata": {},
   "outputs": [],
   "source": [
    "import numpy as np\n",
    "X_train = np.asarray([[0.0], [1.0], [2.0], [3.0], [4.0],\n",
    "                      [5.0], [6.0], [7.0], [8.0], [9.0]], \n",
    "                     dtype=theano.config.floatX)\n",
    "\n",
    "y_train = np.asarray([1.0, 1.3, 3.1, 2.0, 5.0, \n",
    "                      6.3, 6.6, 7.4, 8.0, 9.0], \n",
    "                     dtype=theano.config.floatX)"
   ]
  },
  {
   "cell_type": "markdown",
   "metadata": {},
   "source": [
    "在构造numpy数组时，我们将数据设定为`theano.config.floatX`，这使得我们可以在需要的时候将数据在CPU和GPU之间来回传递"
   ]
  },
  {
   "cell_type": "code",
   "execution_count": 14,
   "metadata": {},
   "outputs": [],
   "source": [
    "import theano\n",
    "from theano import tensor as T\n",
    "import numpy as np\n",
    "\n",
    "def train_linreg(X_train, y_train, eta, epochs):\n",
    "\n",
    "    costs = []\n",
    "    # Initialize arrays\n",
    "    eta0 = T.fscalar('eta0')\n",
    "    y = T.fvector(name='y') \n",
    "    X = T.fmatrix(name='X')   \n",
    "    w = theano.shared(np.zeros(\n",
    "                      shape=(X_train.shape[1] + 1),\n",
    "                      dtype=theano.config.floatX),\n",
    "                      name='w')\n",
    "    \n",
    "    # calculate cost\n",
    "    net_input = T.dot(X, w[1:]) + w[0]\n",
    "    errors = y - net_input\n",
    "    cost = T.sum(T.pow(errors, 2)) \n",
    "\n",
    "    # perform gradient update\n",
    "    gradient = T.grad(cost, wrt=w)\n",
    "    update = [(w, w - eta0 * gradient)]\n",
    "\n",
    "    # compile model\n",
    "    train = theano.function(inputs=[eta0],\n",
    "                            outputs=cost,\n",
    "                            updates=update,\n",
    "                            givens={X: X_train,\n",
    "                                    y: y_train})      \n",
    "    \n",
    "    for _ in range(epochs):\n",
    "        costs.append(train(eta))\n",
    "    \n",
    "    return costs, w"
   ]
  },
  {
   "cell_type": "code",
   "execution_count": 15,
   "metadata": {},
   "outputs": [
    {
     "data": {
      "image/png": "[encoded data removed]",
      "text/plain": [
       "<Figure size 432x288 with 1 Axes>"
      ]
     },
     "metadata": {
      "needs_background": "light"
     },
     "output_type": "display_data"
    }
   ],
   "source": [
    "import matplotlib.pyplot as plt\n",
    "\n",
    "costs, w = train_linreg(X_train, y_train, eta=0.001, epochs=10)\n",
    "   \n",
    "plt.plot(range(1, len(costs)+1), costs)\n",
    "\n",
    "plt.tight_layout()\n",
    "plt.xlabel('Epoch')\n",
    "plt.ylabel('Cost')\n",
    "plt.tight_layout()\n",
    "plt.show()"
   ]
  },
  {
   "cell_type": "code",
   "execution_count": 17,
   "metadata": {},
   "outputs": [
    {
     "data": {
      "image/png": "[encoded data removed]",
      "text/plain": [
       "<Figure size 432x288 with 1 Axes>"
      ]
     },
     "metadata": {
      "needs_background": "light"
     },
     "output_type": "display_data"
    }
   ],
   "source": [
    "def predict_linreg(X, w):\n",
    "    Xt = T.matrix(name='X')\n",
    "    net_input = T.dot(Xt, w[1:]) + w[0]\n",
    "    predict = theano.function(inputs=[Xt], givens={w: w}, outputs=net_input)\n",
    "    return predict(X)\n",
    "\n",
    "plt.scatter(X_train, y_train, marker='s', s=50)\n",
    "plt.plot(range(X_train.shape[0]), \n",
    "         predict_linreg(X_train, w), \n",
    "         color='gray', \n",
    "         marker='o', \n",
    "         markersize=4, \n",
    "         linewidth=3)\n",
    "\n",
    "plt.xlabel('x')\n",
    "plt.ylabel('y')\n",
    "\n",
    "plt.tight_layout()\n",
    "plt.show()"
   ]
  },
  {
   "cell_type": "markdown",
   "metadata": {},
   "source": [
    "## 2. 为前馈神经网络选择激励函数\n",
    "### a. sigmoid函数"
   ]
  },
  {
   "cell_type": "code",
   "execution_count": 18,
   "metadata": {},
   "outputs": [
    {
     "name": "stdout",
     "output_type": "stream",
     "text": [
      "P(y=1|x) = 0.707\n"
     ]
    }
   ],
   "source": [
    "X = np.array([[1, 1.4, 1.5]])\n",
    "w = np.array([0.0, 0.2, 0.4])\n",
    "\n",
    "def net_input(X, w):\n",
    "    z = X.dot(w)\n",
    "    return z\n",
    "\n",
    "def logistic(z):\n",
    "    return 1.0 / (1.0 + np.exp(-z))\n",
    "\n",
    "def logistic_activation(X, w):\n",
    "    z = net_input(X, w)\n",
    "    return logistic(z)\n",
    "\n",
    "print('P(y=1|x) = %.3f' % logistic_activation(X, w)[0])"
   ]
  },
  {
   "cell_type": "code",
   "execution_count": 19,
   "metadata": {},
   "outputs": [
    {
     "name": "stdout",
     "output_type": "stream",
     "text": [
      "Probabilities:\n",
      " [[0.87653295]\n",
      " [0.57688526]\n",
      " [0.90114393]]\n"
     ]
    }
   ],
   "source": [
    "# W : array, shape = [n_output_units, n_hidden_units+1]\n",
    "#          Weight matrix for hidden layer -> output layer.\n",
    "# note that first column (W[:][0]) contains the bias units\n",
    "W = np.array([[1.1, 1.2, 1.3, 0.5],\n",
    "              [0.1, 0.2, 0.4, 0.1],\n",
    "              [0.2, 0.5, 2.1, 1.9]])\n",
    "\n",
    "# A : array, shape = [n_hidden+1, n_samples]\n",
    "#          Activation of hidden layer.\n",
    "# note that first element (A[0][0] = 1) is for the bias units\n",
    "\n",
    "A = np.array([[1.0], \n",
    "              [0.1], \n",
    "              [0.3], \n",
    "              [0.7]])\n",
    "\n",
    "# Z : array, shape = [n_output_units, n_samples]\n",
    "#          Net input of output layer.\n",
    "\n",
    "Z = W.dot(A) \n",
    "y_probas = logistic(Z)\n",
    "print('Probabilities:\\n', y_probas)"
   ]
  },
  {
   "cell_type": "code",
   "execution_count": 20,
   "metadata": {},
   "outputs": [
    {
     "name": "stdout",
     "output_type": "stream",
     "text": [
      "predicted class label: 2\n"
     ]
    }
   ],
   "source": [
    "y_class = np.argmax(Z, axis=0)\n",
    "print('predicted class label: %d' % y_class[0])"
   ]
  },
  {
   "cell_type": "markdown",
   "metadata": {},
   "source": [
    "### b. softmax函数\n",
    "softmax是更一般的Sigmoid函数，在多类别分类中，它使得我们能够计算所有类别隶属的概率。\n",
    "\n",
    "$$P(y=j|z) =\\phi_{softmax}(z) = \\frac{e^{z_j}}{\\sum_{k=1}^K e^{z_k}}$$"
   ]
  },
  {
   "cell_type": "code",
   "execution_count": 21,
   "metadata": {},
   "outputs": [],
   "source": [
    "def softmax(z): \n",
    "    return np.exp(z) / np.sum(np.exp(z))\n",
    "\n",
    "def softmax_activation(X, w):\n",
    "    z = net_input(X, w)\n",
    "    return softmax(z)"
   ]
  },
  {
   "cell_type": "code",
   "execution_count": 22,
   "metadata": {},
   "outputs": [
    {
     "name": "stdout",
     "output_type": "stream",
     "text": [
      "Probabilities:\n",
      " [[0.40386493]\n",
      " [0.07756222]\n",
      " [0.51857284]]\n"
     ]
    }
   ],
   "source": [
    "y_probas = softmax(Z)\n",
    "print('Probabilities:\\n', y_probas)"
   ]
  },
  {
   "cell_type": "code",
   "execution_count": 23,
   "metadata": {},
   "outputs": [
    {
     "data": {
      "text/plain": [
       "1.0"
      ]
     },
     "execution_count": 23,
     "metadata": {},
     "output_type": "execute_result"
    }
   ],
   "source": [
    "y_probas.sum()"
   ]
  },
  {
   "cell_type": "code",
   "execution_count": 24,
   "metadata": {},
   "outputs": [
    {
     "data": {
      "text/plain": [
       "array([2])"
      ]
     },
     "execution_count": 24,
     "metadata": {},
     "output_type": "execute_result"
    }
   ],
   "source": [
    "y_class = np.argmax(Z, axis=0)\n",
    "y_class"
   ]
  },
  {
   "cell_type": "markdown",
   "metadata": {},
   "source": [
    "### c. 双曲正切函数\n",
    "$$\\phi_{tanh}(z) = \\frac{e^{z}-e^{-z}}{e^{z}+e^{-z}}$$\n",
    "\n",
    "Output range: (-1, 1)"
   ]
  },
  {
   "cell_type": "code",
   "execution_count": 25,
   "metadata": {},
   "outputs": [],
   "source": [
    "def tanh(z):\n",
    "    e_p = np.exp(z) \n",
    "    e_m = np.exp(-z)\n",
    "    return (e_p - e_m) / (e_p + e_m)  "
   ]
  },
  {
   "cell_type": "code",
   "execution_count": 26,
   "metadata": {},
   "outputs": [
    {
     "data": {
      "image/png": "[encoded data removed]",
      "text/plain": [
       "<Figure size 432x288 with 1 Axes>"
      ]
     },
     "metadata": {
      "needs_background": "light"
     },
     "output_type": "display_data"
    }
   ],
   "source": [
    "import matplotlib.pyplot as plt\n",
    "\n",
    "z = np.arange(-5, 5, 0.005)\n",
    "log_act = logistic(z)\n",
    "tanh_act = tanh(z)\n",
    "\n",
    "# alternatives:\n",
    "# from scipy.special import expit\n",
    "# log_act = expit(z)\n",
    "# tanh_act = np.tanh(z)\n",
    "\n",
    "plt.ylim([-1.5, 1.5])\n",
    "plt.xlabel('net input $z$')\n",
    "plt.ylabel('activation $\\phi(z)$')\n",
    "plt.axhline(1, color='black', linestyle='--')\n",
    "plt.axhline(0.5, color='black', linestyle='--')\n",
    "plt.axhline(0, color='black', linestyle='--')\n",
    "plt.axhline(-1, color='black', linestyle='--')\n",
    "\n",
    "plt.plot(z, tanh_act, \n",
    "         linewidth=2, \n",
    "         color='black', \n",
    "         label='tanh')\n",
    "plt.plot(z, log_act, \n",
    "         linewidth=2, \n",
    "         color='lightgreen', \n",
    "         label='logistic')\n",
    "\n",
    "plt.legend(loc='lower right')\n",
    "plt.tight_layout()\n",
    "# plt.savefig('./figures/activation.png', dpi=300)\n",
    "plt.show()"
   ]
  },
  {
   "cell_type": "markdown",
   "metadata": {},
   "source": [
    "## 3. 使用Keras提高训练神经网络的效率\n",
    "加载MNIST数据集"
   ]
  },
  {
   "cell_type": "code",
   "execution_count": 1,
   "metadata": {},
   "outputs": [],
   "source": [
    "import os\n",
    "import struct\n",
    "import numpy as np\n",
    " \n",
    "def load_mnist(path, kind='train'):\n",
    "    \"\"\"Load MNIST data from `path`\"\"\"\n",
    "    labels_path = os.path.join(path, \n",
    "                               '%s-labels-idx1-ubyte' % kind)\n",
    "    images_path = os.path.join(path, \n",
    "                               '%s-images-idx3-ubyte' % kind)\n",
    "        \n",
    "    with open(labels_path, 'rb') as lbpath:\n",
    "        magic, n = struct.unpack('>II', \n",
    "                                 lbpath.read(8))\n",
    "        labels = np.fromfile(lbpath, \n",
    "                             dtype=np.uint8)\n",
    "\n",
    "    with open(images_path, 'rb') as imgpath:\n",
    "        magic, num, rows, cols = struct.unpack(\">IIII\", \n",
    "                                               imgpath.read(16))\n",
    "        images = np.fromfile(imgpath, \n",
    "                             dtype=np.uint8).reshape(len(labels), 784)\n",
    " \n",
    "    return images, labels"
   ]
  },
  {
   "cell_type": "code",
   "execution_count": 2,
   "metadata": {},
   "outputs": [
    {
     "name": "stdout",
     "output_type": "stream",
     "text": [
      "Rows: 60000, columns: 784\n"
     ]
    }
   ],
   "source": [
    "X_train, y_train = load_mnist('../datasets/MNIST/', kind='train')\n",
    "print('Rows: %d, columns: %d' % (X_train.shape[0], X_train.shape[1]))"
   ]
  },
  {
   "cell_type": "code",
   "execution_count": 3,
   "metadata": {},
   "outputs": [
    {
     "name": "stdout",
     "output_type": "stream",
     "text": [
      "Rows: 10000, columns: 784\n"
     ]
    }
   ],
   "source": [
    "X_test, y_test = load_mnist('../datasets/MNIST/', kind='t10k')\n",
    "print('Rows: %d, columns: %d' % (X_test.shape[0], X_test.shape[1]))"
   ]
  },
  {
   "cell_type": "code",
   "execution_count": 4,
   "metadata": {},
   "outputs": [],
   "source": [
    "import theano \n",
    "\n",
    "theano.config.floatX = 'float32'\n",
    "X_train = X_train.astype(theano.config.floatX)\n",
    "X_test = X_test.astype(theano.config.floatX)"
   ]
  },
  {
   "cell_type": "markdown",
   "metadata": {},
   "source": [
    "独热编码"
   ]
  },
  {
   "cell_type": "code",
   "execution_count": 5,
   "metadata": {},
   "outputs": [
    {
     "name": "stderr",
     "output_type": "stream",
     "text": [
      "Using TensorFlow backend.\n"
     ]
    },
    {
     "name": "stdout",
     "output_type": "stream",
     "text": [
      "First 3 labels:  [5 0 4]\n",
      "\n",
      "First 3 labels (one-hot):\n",
      " [[0. 0. 0. 0. 0. 1. 0. 0. 0. 0.]\n",
      " [1. 0. 0. 0. 0. 0. 0. 0. 0. 0.]\n",
      " [0. 0. 0. 0. 1. 0. 0. 0. 0. 0.]]\n"
     ]
    }
   ],
   "source": [
    "from keras.utils import np_utils\n",
    "\n",
    "print('First 3 labels: ', y_train[:3])\n",
    "\n",
    "y_train_ohe = np_utils.to_categorical(y_train) \n",
    "print('\\nFirst 3 labels (one-hot):\\n', y_train_ohe[:3])"
   ]
  },
  {
   "cell_type": "code",
   "execution_count": 12,
   "metadata": {},
   "outputs": [
    {
     "name": "stdout",
     "output_type": "stream",
     "text": [
      "Train on 54000 samples, validate on 6000 samples\n",
      "Epoch 1/50\n",
      "54000/54000 [==============================] - 1s 21us/step - loss: 2.2207 - acc: 0.4285 - val_loss: 2.0861 - val_acc: 0.6240\n",
      "Epoch 2/50\n",
      "54000/54000 [==============================] - 1s 16us/step - loss: 1.8300 - acc: 0.6188 - val_loss: 1.5086 - val_acc: 0.6595\n",
      "Epoch 3/50\n",
      "54000/54000 [==============================] - 1s 16us/step - loss: 1.3003 - acc: 0.6599 - val_loss: 1.0789 - val_acc: 0.7342\n",
      "Epoch 4/50\n",
      "54000/54000 [==============================] - 1s 16us/step - loss: 0.9802 - acc: 0.7478 - val_loss: 0.8156 - val_acc: 0.8068\n",
      "Epoch 5/50\n",
      "54000/54000 [==============================] - 1s 17us/step - loss: 0.7771 - acc: 0.8113 - val_loss: 0.6550 - val_acc: 0.8558\n",
      "Epoch 6/50\n",
      "54000/54000 [==============================] - 1s 17us/step - loss: 0.6448 - acc: 0.8509 - val_loss: 0.5444 - val_acc: 0.8798\n",
      "Epoch 7/50\n",
      "54000/54000 [==============================] - 1s 17us/step - loss: 0.5561 - acc: 0.8683 - val_loss: 0.4703 - val_acc: 0.8953\n",
      "Epoch 8/50\n",
      "54000/54000 [==============================] - 1s 17us/step - loss: 0.4961 - acc: 0.8794 - val_loss: 0.4265 - val_acc: 0.9035\n",
      "Epoch 9/50\n",
      "54000/54000 [==============================] - 1s 16us/step - loss: 0.4559 - acc: 0.8869 - val_loss: 0.3797 - val_acc: 0.9105\n",
      "Epoch 10/50\n",
      "54000/54000 [==============================] - 1s 17us/step - loss: 0.4200 - acc: 0.8940 - val_loss: 0.3620 - val_acc: 0.9143\n",
      "Epoch 11/50\n",
      "54000/54000 [==============================] - 1s 18us/step - loss: 0.3914 - acc: 0.8987 - val_loss: 0.3335 - val_acc: 0.9198\n",
      "Epoch 12/50\n",
      "54000/54000 [==============================] - 1s 18us/step - loss: 0.3753 - acc: 0.9016 - val_loss: 0.3197 - val_acc: 0.9165\n",
      "Epoch 13/50\n",
      "54000/54000 [==============================] - 1s 17us/step - loss: 0.3539 - acc: 0.9074 - val_loss: 0.3055 - val_acc: 0.9180\n",
      "Epoch 14/50\n",
      "54000/54000 [==============================] - 1s 18us/step - loss: 0.3528 - acc: 0.9067 - val_loss: 0.3009 - val_acc: 0.9218\n",
      "Epoch 15/50\n",
      "54000/54000 [==============================] - 1s 19us/step - loss: 0.3339 - acc: 0.9091 - val_loss: 0.2921 - val_acc: 0.9238\n",
      "Epoch 16/50\n",
      "54000/54000 [==============================] - 1s 19us/step - loss: 0.3294 - acc: 0.9114 - val_loss: 0.2852 - val_acc: 0.9218\n",
      "Epoch 17/50\n",
      "54000/54000 [==============================] - 1s 18us/step - loss: 0.3187 - acc: 0.9123 - val_loss: 0.2736 - val_acc: 0.9273\n",
      "Epoch 18/50\n",
      "54000/54000 [==============================] - 1s 19us/step - loss: 0.3059 - acc: 0.9154 - val_loss: 0.2581 - val_acc: 0.9327\n",
      "Epoch 19/50\n",
      "54000/54000 [==============================] - 1s 21us/step - loss: 0.3046 - acc: 0.9148 - val_loss: 0.2563 - val_acc: 0.9307\n",
      "Epoch 20/50\n",
      "54000/54000 [==============================] - 1s 19us/step - loss: 0.2941 - acc: 0.9182 - val_loss: 0.2500 - val_acc: 0.9322\n",
      "Epoch 21/50\n",
      "54000/54000 [==============================] - 1s 19us/step - loss: 0.2823 - acc: 0.9229 - val_loss: 0.2485 - val_acc: 0.9322\n",
      "Epoch 22/50\n",
      "54000/54000 [==============================] - 1s 19us/step - loss: 0.2774 - acc: 0.9236 - val_loss: 0.2423 - val_acc: 0.9357\n",
      "Epoch 23/50\n",
      "54000/54000 [==============================] - 1s 20us/step - loss: 0.2679 - acc: 0.9262 - val_loss: 0.2304 - val_acc: 0.9388\n",
      "Epoch 24/50\n",
      "54000/54000 [==============================] - 1s 21us/step - loss: 0.2695 - acc: 0.9246 - val_loss: 0.2335 - val_acc: 0.9367\n",
      "Epoch 25/50\n",
      "54000/54000 [==============================] - 1s 19us/step - loss: 0.2679 - acc: 0.9250 - val_loss: 0.2414 - val_acc: 0.9343\n",
      "Epoch 26/50\n",
      "54000/54000 [==============================] - 1s 21us/step - loss: 0.2617 - acc: 0.9270 - val_loss: 0.2250 - val_acc: 0.9392\n",
      "Epoch 27/50\n",
      "54000/54000 [==============================] - 1s 21us/step - loss: 0.2541 - acc: 0.9289 - val_loss: 0.2218 - val_acc: 0.9393\n",
      "Epoch 28/50\n",
      "54000/54000 [==============================] - 1s 21us/step - loss: 0.2486 - acc: 0.9289 - val_loss: 0.2124 - val_acc: 0.9442\n",
      "Epoch 29/50\n",
      "54000/54000 [==============================] - 1s 20us/step - loss: 0.2452 - acc: 0.9301 - val_loss: 0.2125 - val_acc: 0.9442\n",
      "Epoch 30/50\n",
      "54000/54000 [==============================] - 1s 22us/step - loss: 0.2412 - acc: 0.9306 - val_loss: 0.2085 - val_acc: 0.9425\n",
      "Epoch 31/50\n",
      "54000/54000 [==============================] - 1s 21us/step - loss: 0.2431 - acc: 0.9306 - val_loss: 0.2113 - val_acc: 0.9407\n",
      "Epoch 32/50\n",
      "54000/54000 [==============================] - 1s 21us/step - loss: 0.2395 - acc: 0.9310 - val_loss: 0.2123 - val_acc: 0.9422\n",
      "Epoch 33/50\n",
      "54000/54000 [==============================] - 1s 21us/step - loss: 0.2374 - acc: 0.9325 - val_loss: 0.2121 - val_acc: 0.9432\n",
      "Epoch 34/50\n",
      "54000/54000 [==============================] - 1s 21us/step - loss: 0.2321 - acc: 0.9330 - val_loss: 0.2040 - val_acc: 0.9445\n",
      "Epoch 35/50\n",
      "54000/54000 [==============================] - 1s 20us/step - loss: 0.2314 - acc: 0.9335 - val_loss: 0.2087 - val_acc: 0.9393\n",
      "Epoch 36/50\n",
      "54000/54000 [==============================] - 1s 22us/step - loss: 0.2260 - acc: 0.9351 - val_loss: 0.2021 - val_acc: 0.9425\n",
      "Epoch 37/50\n",
      "54000/54000 [==============================] - 1s 21us/step - loss: 0.2311 - acc: 0.9334 - val_loss: 0.1980 - val_acc: 0.9457\n",
      "Epoch 38/50\n",
      "54000/54000 [==============================] - 1s 21us/step - loss: 0.2247 - acc: 0.9339 - val_loss: 0.1952 - val_acc: 0.9453\n",
      "Epoch 39/50\n",
      "54000/54000 [==============================] - 1s 22us/step - loss: 0.2225 - acc: 0.9351 - val_loss: 0.1914 - val_acc: 0.9480\n",
      "Epoch 40/50\n",
      "54000/54000 [==============================] - 1s 24us/step - loss: 0.2177 - acc: 0.9362 - val_loss: 0.1857 - val_acc: 0.9468\n",
      "Epoch 41/50\n",
      "54000/54000 [==============================] - 1s 22us/step - loss: 0.2191 - acc: 0.9357 - val_loss: 0.1975 - val_acc: 0.9445\n",
      "Epoch 42/50\n",
      "54000/54000 [==============================] - 1s 23us/step - loss: 0.2136 - acc: 0.9370 - val_loss: 0.1973 - val_acc: 0.9430\n",
      "Epoch 43/50\n",
      "54000/54000 [==============================] - 1s 24us/step - loss: 0.2038 - acc: 0.9408 - val_loss: 0.1862 - val_acc: 0.9457\n",
      "Epoch 44/50\n",
      "54000/54000 [==============================] - 1s 24us/step - loss: 0.2143 - acc: 0.9364 - val_loss: 0.1814 - val_acc: 0.9480\n",
      "Epoch 45/50\n",
      "54000/54000 [==============================] - 1s 23us/step - loss: 0.2081 - acc: 0.9394 - val_loss: 0.1900 - val_acc: 0.9473\n",
      "Epoch 46/50\n",
      "54000/54000 [==============================] - 1s 22us/step - loss: 0.2071 - acc: 0.9395 - val_loss: 0.1746 - val_acc: 0.9485\n",
      "Epoch 47/50\n",
      "54000/54000 [==============================] - 1s 23us/step - loss: 0.2017 - acc: 0.9404 - val_loss: 0.1769 - val_acc: 0.9495\n",
      "Epoch 48/50\n",
      "54000/54000 [==============================] - 1s 23us/step - loss: 0.2007 - acc: 0.9413 - val_loss: 0.1824 - val_acc: 0.9470\n",
      "Epoch 49/50\n",
      "54000/54000 [==============================] - 1s 23us/step - loss: 0.2011 - acc: 0.9422 - val_loss: 0.1821 - val_acc: 0.9482\n",
      "Epoch 50/50\n",
      "54000/54000 [==============================] - 1s 25us/step - loss: 0.1921 - acc: 0.9450 - val_loss: 0.1759 - val_acc: 0.9492\n"
     ]
    },
    {
     "data": {
      "text/plain": [
       "<keras.callbacks.History at 0x7f45240e45f8>"
      ]
     },
     "execution_count": 12,
     "metadata": {},
     "output_type": "execute_result"
    }
   ],
   "source": [
    "from keras.models import Sequential\n",
    "from keras.layers.core import Dense\n",
    "from keras.optimizers import SGD\n",
    "\n",
    "np.random.seed(1)\n",
    "\n",
    "# 使用Sequential初始化一个模型来实现前馈神经网络\n",
    "model = Sequential()\n",
    "# 加入输入层，input_dim为本层的单元数量\n",
    "# units为本层输出的数量，也就是下一层的输入\n",
    "model.add(Dense(input_dim=X_train.shape[1],\n",
    "                units=50,\n",
    "                kernel_initializer='uniform',\n",
    "                activation='tanh'))\n",
    "\n",
    "model.add(Dense(input_dim=50,\n",
    "                units=50,\n",
    "                kernel_initializer='uniform',\n",
    "                activation='tanh'))\n",
    "\n",
    "model.add(Dense(input_dim=50,\n",
    "                units=y_train_ohe.shape[1],\n",
    "                kernel_initializer='uniform',\n",
    "                activation='softmax'))\n",
    "\n",
    "# 定义优化器，使用梯度下降进行优化\n",
    "sgd = SGD(lr=0.001, decay=1e-7, momentum=.9)\n",
    "model.compile(loss='categorical_crossentropy',   # 交叉熵，和逻辑回归的代价函数相关\n",
    "              optimizer=sgd, \n",
    "              metrics=['accuracy'])\n",
    "\n",
    "model.fit(X_train, y_train_ohe, \n",
    "          epochs=50, \n",
    "          batch_size=300, \n",
    "          verbose=1, \n",
    "          validation_split=0.1) "
   ]
  },
  {
   "cell_type": "code",
   "execution_count": 13,
   "metadata": {},
   "outputs": [
    {
     "name": "stdout",
     "output_type": "stream",
     "text": [
      "First 3 predictions:  [5 0 4]\n",
      "Training accuracy: 94.42%\n",
      "Test accuracy: 93.63%\n"
     ]
    }
   ],
   "source": [
    "y_train_pred = model.predict_classes(X_train, verbose=0)\n",
    "print('First 3 predictions: ', y_train_pred[:3])\n",
    "\n",
    "train_acc = np.sum(y_train == y_train_pred, axis=0) / X_train.shape[0]\n",
    "print('Training accuracy: %.2f%%' % (train_acc * 100))\n",
    "\n",
    "y_test_pred = model.predict_classes(X_test, verbose=0)\n",
    "test_acc = np.sum(y_test == y_test_pred, axis=0) / X_test.shape[0]\n",
    "print('Test accuracy: %.2f%%' % (test_acc * 100))"
   ]
  }
 ],
 "metadata": {
  "kernelspec": {
   "display_name": "Python 3",
   "language": "python",
   "name": "python3"
  },
  "language_info": {
   "codemirror_mode": {
    "name": "ipython",
    "version": 3
   },
   "file_extension": ".py",
   "mimetype": "text/x-python",
   "name": "python",
   "nbconvert_exporter": "python",
   "pygments_lexer": "ipython3",
   "version": "3.6.6"
  }
 },
 "nbformat": 4,
 "nbformat_minor": 2
}
